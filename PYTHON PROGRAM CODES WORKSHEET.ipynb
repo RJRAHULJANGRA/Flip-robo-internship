{
 "cells": [
  {
   "cell_type": "markdown",
   "id": "52ce5636",
   "metadata": {},
   "source": [
    "# 11. FACTORIAL OF A NUMBER"
   ]
  },
  {
   "cell_type": "code",
   "execution_count": 1,
   "id": "85884b4f",
   "metadata": {},
   "outputs": [
    {
     "name": "stdout",
     "output_type": "stream",
     "text": [
      "Enter a number: 20\n",
      "Factorail of  20  is :  2432902008176640000\n"
     ]
    }
   ],
   "source": [
    "n = input(\"Enter a number: \")\n",
    "factorial = 1\n",
    "for i in range (1,int(n)+1):\n",
    "    factorial = factorial * i\n",
    "print(\"Factorail of \",n , \" is : \",factorial)"
   ]
  },
  {
   "cell_type": "markdown",
   "id": "2ffe5bae",
   "metadata": {},
   "source": [
    "# 12. PRIME OR COMPOSITE NUMBER"
   ]
  },
  {
   "cell_type": "code",
   "execution_count": 3,
   "id": "6d24cabb",
   "metadata": {},
   "outputs": [
    {
     "name": "stdout",
     "output_type": "stream",
     "text": [
      "Enter a number:9\n",
      "9 is a prime number\n",
      "2 times 4 is 9\n",
      "9 is a prime number\n",
      "3 times 3 is 9\n",
      "9 is a prime number\n",
      "4 times 2 is 9\n",
      "9 is a prime number\n",
      "5 times 1 is 9\n",
      "9 is a prime number\n",
      "6 times 1 is 9\n",
      "9 is a prime number\n",
      "7 times 1 is 9\n",
      "9 is a prime number\n",
      "8 times 1 is 9\n"
     ]
    }
   ],
   "source": [
    "num= int(input(\"Enter a number:\"))\n",
    "if num >1:\n",
    "    for i in range(2,num):\n",
    "        print(num,\"is a prime number\") \n",
    "        print(i,\"times\",num//i,\"is\",num)\n",
    "else:\n",
    "        print(num,\"is a prime number\")"
   ]
  },
  {
   "cell_type": "markdown",
   "id": "b71dbdd0",
   "metadata": {},
   "source": [
    "# 13. GIVEN STRING IS PALINDROME OR NOT"
   ]
  },
  {
   "cell_type": "code",
   "execution_count": 4,
   "id": "4ad9cfbb",
   "metadata": {},
   "outputs": [
    {
     "name": "stdout",
     "output_type": "stream",
     "text": [
      "The string is not a palindrome.\n"
     ]
    }
   ],
   "source": [
    "String = 'SAHIL'\n",
    "rev_str = reversed(String)\n",
    "if list(String) == list(rev_str):\n",
    "    print(\"The string is a palindrome.\")\n",
    "else:\n",
    "    print(\"The string is not a palindrome.\")"
   ]
  },
  {
   "cell_type": "code",
   "execution_count": 5,
   "id": "312b2119",
   "metadata": {},
   "outputs": [
    {
     "name": "stdout",
     "output_type": "stream",
     "text": [
      "The string is a palindrome.\n"
     ]
    }
   ],
   "source": [
    "String = 'DAD'\n",
    "rev_str = reversed(String)\n",
    "if list(String) == list(rev_str):\n",
    "    print(\"The string is a palindrome.\")\n",
    "else:\n",
    "    print(\"The string is not a palindrome.\")"
   ]
  },
  {
   "cell_type": "markdown",
   "id": "73bb789b",
   "metadata": {},
   "source": [
    "# 14. PROGRAM TO FIND THIRD SIDE OF RIGHT ANGLED TRAINGLE"
   ]
  },
  {
   "cell_type": "code",
   "execution_count": 6,
   "id": "9fdbb5bc",
   "metadata": {},
   "outputs": [
    {
     "name": "stdout",
     "output_type": "stream",
     "text": [
      "Enter base: 4\n",
      "Enter height: 6\n",
      "Enter angle: 90\n",
      "Hypotenuse = 7.211102550927978\n"
     ]
    }
   ],
   "source": [
    "import math\n",
    "a = float(input(\"Enter base: \"))\n",
    "b = float(input(\"Enter height: \"))\n",
    "x = float(input(\"Enter angle: \"))\n",
    "c = math.sqrt(a ** 2 + b ** 2)\n",
    "print(\"Hypotenuse =\", c)\n"
   ]
  },
  {
   "cell_type": "markdown",
   "id": "a4e5ea4f",
   "metadata": {},
   "source": [
    "# 15. Write a python program to print the frequency of each of the characters present in a given string."
   ]
  },
  {
   "cell_type": "code",
   "execution_count": 7,
   "id": "c16c5449",
   "metadata": {},
   "outputs": [
    {
     "name": "stdout",
     "output_type": "stream",
     "text": [
      "Characters frequencies\n",
      "M-1\n",
      "Y-1\n",
      "D-2\n",
      "A-1\n",
      "I-1\n",
      "S-2\n",
      "B-1\n",
      "E-1\n",
      "T-1\n"
     ]
    }
   ],
   "source": [
    "string = \"MY DAD IS BEST\";  \n",
    "freq = [None] * len(string);  \n",
    "for i in range(0, len(string)):  \n",
    "    freq[i] = 1;  \n",
    "    for j in range(i+1, len(string)):  \n",
    "        if(string[i] == string[j]):  \n",
    "            freq[i] = freq[i] + 1;  \n",
    "                            \n",
    "            string = string[ : j] + '0' + string[j+1 : ];  \n",
    "              \n",
    "print(\"Characters frequencies\");  \n",
    "for i in range(0, len(freq)):  \n",
    "    if(string[i] != ' ' and string[i] != '0'):  \n",
    "        print(string[i] + \"-\" + str(freq[i]));"
   ]
  },
  {
   "cell_type": "code",
   "execution_count": null,
   "id": "2dff0fa4",
   "metadata": {},
   "outputs": [],
   "source": []
  }
 ],
 "metadata": {
  "kernelspec": {
   "display_name": "Python 3",
   "language": "python",
   "name": "python3"
  },
  "language_info": {
   "codemirror_mode": {
    "name": "ipython",
    "version": 3
   },
   "file_extension": ".py",
   "mimetype": "text/x-python",
   "name": "python",
   "nbconvert_exporter": "python",
   "pygments_lexer": "ipython3",
   "version": "3.8.8"
  }
 },
 "nbformat": 4,
 "nbformat_minor": 5
}
